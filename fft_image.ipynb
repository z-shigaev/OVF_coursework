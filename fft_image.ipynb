{
 "cells": [
  {
   "cell_type": "code",
   "execution_count": 260,
   "metadata": {},
   "outputs": [],
   "source": [
    "from PIL import Image, ImageEnhance\n",
    "import os\n",
    "import numpy as np\n",
    "import math\n",
    "from datetime import datetime\n",
    "import matplotlib.pyplot as plt"
   ]
  },
  {
   "cell_type": "code",
   "execution_count": 261,
   "metadata": {},
   "outputs": [],
   "source": [
    "pi = math.pi"
   ]
  },
  {
   "cell_type": "code",
   "execution_count": 262,
   "metadata": {},
   "outputs": [],
   "source": [
    "def np_from_list(arr: list, x_num, y_num, z_num):\n",
    "    res = np.zeros((y_num, x_num, z_num))\n",
    "    for i in range(y_num):\n",
    "        for j in range(x_num):\n",
    "            for k in range(z_num):\n",
    "                res[i, j, k] = arr[i][j][k]\n",
    "    return res"
   ]
  },
  {
   "cell_type": "code",
   "execution_count": 263,
   "metadata": {},
   "outputs": [
    {
     "name": "stdout",
     "output_type": "stream",
     "text": [
      "(50, 50, 3)\n"
     ]
    }
   ],
   "source": [
    "input_folder = \"Input\"\n",
    "filename = 'test_x.png'\n",
    "\n",
    "with Image.open(os.path.join(input_folder, filename)) as img:\n",
    "    img.load()\n",
    "\n",
    "x_size, y_size = img.size                       # размеры изображения\n",
    "\n",
    "im_arr = np.asarray(img)\n",
    "\n",
    "print(im_arr.shape)\n",
    "\n",
    "br_arr = np.zeros((y_size, x_size))\n",
    "\n",
    "for j in range(y_size):\n",
    "    for i in range(x_size):\n",
    "        br_arr[j, i] = int(sum(im_arr[j, i])/3)\n",
    "\n",
    "# plt.imshow(im_arr, interpolation='none')\n",
    "# plt.show()\n",
    "\n",
    "Image.fromarray(br_arr).show()\n",
    "\n",
    "# Image.fromarray(im_arr, 'RGB').show()\n"
   ]
  },
  {
   "cell_type": "code",
   "execution_count": 264,
   "metadata": {},
   "outputs": [],
   "source": [
    "# двумерное преобразование Фурье\n",
    "def  DFT_2D(array_2d):\n",
    "    y_size, x_size = array_2d.shape\n",
    "\n",
    "    h = 1/(x_size*y_size)\n",
    "    G = np.empty((y_size, x_size), dtype=complex)\n",
    "\n",
    "    for w in range(y_size):\n",
    "        for u in range(x_size):\n",
    "            a = 0\n",
    "            b = 0\n",
    "            for m in range(y_size):\n",
    "                for n in range(x_size):\n",
    "                    a += array_2d[m, n] * math.cos(-2*pi*(m*u/y_size+n*w/x_size))\n",
    "                    b += array_2d[m, n] * math.sin(-2*pi*(m*u/y_size+n*w/x_size))\n",
    "            G[w, u] = complex(a, b)*h\n",
    "            # c = np.complex(a, b)*h\n",
    "            # G[w, u] = c\n",
    "    return G\n",
    "\n",
    "def reDFT_2D(G):\n",
    "    y_size, x_size = G.shape\n",
    "\n",
    "    h = 1\n",
    "    array_2d = np.empty((y_size, x_size), dtype=np.int8)\n",
    "\n",
    "    for m in range(y_size):\n",
    "        for n in range(x_size):\n",
    "            a = 0\n",
    "            b = 0\n",
    "            for w in range(y_size):\n",
    "                for u in range(x_size):\n",
    "                    a += G[w, u] * math.cos(2*pi*(m*u/y_size+n*w/x_size))\n",
    "                    b += G[w, u] * math.sin(2*pi*(m*u/y_size+n*w/x_size))\n",
    "            # c = complex(a, b)*h\n",
    "            # array_2d[m, n] = (a*h, b*h)\n",
    "            array_2d[m, n] = np.int8((complex(a, b)*h).real)\n",
    "\n",
    "    return array_2d\n",
    "\n",
    "def clean_high_freqs(G, level):\n",
    "    if (level > 1) or (level < 0):\n",
    "        return None\n",
    "    else:\n",
    "        num_x = len(G[0])\n",
    "        num_y = len(G)\n",
    "        # core_x = math.floor(level*num_x)\n",
    "        # core_y = math.floor(level*num_y)\n",
    "        b_x = math.ceil((1-level)*num_x/2)\n",
    "        b_y = math.ceil((1-level)*num_y/2)\n",
    "\n",
    "        G_new = []\n",
    "        for m in range(y_size):\n",
    "            row = []\n",
    "            for n in range(x_size):\n",
    "                a = G[m][n]\n",
    "                if b_x <= n <= (x_size - b_x):\n",
    "                    if b_y <= m <= (y_size - b_y):\n",
    "                        a = 0\n",
    "                row.append(a)\n",
    "            G_new.append(row)\n",
    "        \n",
    "        return G_new\n",
    "    "
   ]
  },
  {
   "cell_type": "code",
   "execution_count": 265,
   "metadata": {},
   "outputs": [
    {
     "name": "stdout",
     "output_type": "stream",
     "text": [
      "<class 'numpy.int8'>\n"
     ]
    }
   ],
   "source": [
    "# test\n",
    "test = DFT_2D(br_arr)\n",
    "# print(test[0])\n",
    "test = reDFT_2D(test)\n",
    "\n",
    "for y in range(test.shape[0]):\n",
    "    for x in range(test.shape[1]):\n",
    "        test[y, x] = np.real(test[y, x])\n",
    "\n",
    "# print(type(test[0, 0]))\n",
    "\n",
    "Image.fromarray(test).show()"
   ]
  },
  {
   "cell_type": "code",
   "execution_count": 266,
   "metadata": {},
   "outputs": [],
   "source": [
    "# dft = DFT_2D(br_arr)\n",
    "# print('dft')\n",
    "# dft = clean_high_freqs(dft, 0.8)\n",
    "# print('clean dft')\n",
    "# redft = reDFT_2D(dft)\n",
    "# print('redft')\n",
    "# print(br_arr[0])\n",
    "# print(redft[0])\n"
   ]
  },
  {
   "cell_type": "code",
   "execution_count": 267,
   "metadata": {},
   "outputs": [],
   "source": [
    "# test_img = []\n",
    "# for m in range(len(redft)):\n",
    "#     row = []\n",
    "#     for n in range(len(redft[0])):\n",
    "#         row.append(int(redft[m][n].real))\n",
    "#     test_img.append(row)\n",
    "\n",
    "# test_img = Image.fromarray(np.asarray(test_img))\n",
    "\n",
    "# now = datetime.now()\n",
    "\n",
    "# test_img.show()\n",
    "\n",
    "# current_time = now.strftime(\"%Y_%m_%d_%H_%M_%S\")\n",
    "\n",
    "# test_img = test_img.save(\"Output/\" + current_time + \".png\")\n"
   ]
  },
  {
   "cell_type": "code",
   "execution_count": null,
   "metadata": {},
   "outputs": [],
   "source": []
  }
 ],
 "metadata": {
  "kernelspec": {
   "display_name": "Python 3",
   "language": "python",
   "name": "python3"
  },
  "language_info": {
   "codemirror_mode": {
    "name": "ipython",
    "version": 3
   },
   "file_extension": ".py",
   "mimetype": "text/x-python",
   "name": "python",
   "nbconvert_exporter": "python",
   "pygments_lexer": "ipython3",
   "version": "3.12.0"
  }
 },
 "nbformat": 4,
 "nbformat_minor": 2
}
